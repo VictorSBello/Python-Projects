{
 "cells": [
  {
   "cell_type": "code",
   "execution_count": 1,
   "metadata": {},
   "outputs": [],
   "source": [
    "from tkinter import *\n",
    "from tkinter import ttk"
   ]
  },
  {
   "cell_type": "code",
   "execution_count": 19,
   "metadata": {},
   "outputs": [],
   "source": [
    "def calculate(*args):\n",
    "    try:\n",
    "        value = float(feet.get())\n",
    "        meters.set((0.3048 * value * 10000.0 + 0.5)/10000.0)\n",
    "    except ValueErro:\n",
    "            pass\n",
    "\n",
    "root = Tk()\n",
    "root.title(\"Feet to Meters\")\n",
    "\n",
    "mainframe = ttk.Frame(root, padding=\"3 3 12 12\")\n",
    "mainframe.grid(column=0, row=0, sticky=(N, W, E, S))\n",
    "mainframe.columnconfigure(0, weight=1)\n",
    "mainframe.rowconfigure(0, weight=1)\n",
    "\n",
    "feet = StringVar()\n",
    "meters = StringVar()\n",
    "\n",
    "feet_entry = ttk.Entry(mainframe, width=7, textvariable=feet)\n",
    "feet_entry.grid(column=2, row=1, sticky=(W, E))\n",
    "\n",
    "ttk.Label(mainframe, textvariable=meters).grid(column=2, row=2, sticky=(W, E))\n",
    "ttk.Button(mainframe, text=\"Calculate\", command=calculate).grid(column=3, row=3, sticky=W)\n",
    "\n",
    "ttk.Label(mainframe, text=\"feet\").grid(column=3, row=1, sticky=W)\n",
    "ttk.Label(mainframe, text=\"is equivalent to\").grid(column=1, row=2, sticky=E)\n",
    "ttk.Label(mainframe, text=\"meters\").grid(column=3, row=2, sticky=W)\n",
    "\n",
    "for child in mainframe.winfo_children(): child.grid_configure(padx=5, pady=5)\n",
    "\n",
    "feet_entry.focus()\n",
    "root.bind('<Return>', calculate)\n",
    "          \n",
    "root.mainloop()"
   ]
  }
 ],
 "metadata": {
  "kernelspec": {
   "display_name": "Python 3",
   "language": "python",
   "name": "python3"
  },
  "language_info": {
   "codemirror_mode": {
    "name": "ipython",
    "version": 3
   },
   "file_extension": ".py",
   "mimetype": "text/x-python",
   "name": "python",
   "nbconvert_exporter": "python",
   "pygments_lexer": "ipython3",
   "version": "3.8.3"
  }
 },
 "nbformat": 4,
 "nbformat_minor": 4
}
