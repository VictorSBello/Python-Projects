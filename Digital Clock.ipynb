{
 "cells": [
  {
   "cell_type": "code",
   "execution_count": 28,
   "metadata": {},
   "outputs": [],
   "source": [
    "from tkinter import *\n",
    "from tkinter import ttk\n",
    "from tkinter import font\n",
    "import time\n",
    "import datetime"
   ]
  },
  {
   "cell_type": "code",
   "execution_count": 61,
   "metadata": {},
   "outputs": [],
   "source": [
    "def quit(*args):\n",
    "    root.destroy()\n",
    "    \n",
    "def clock_time():\n",
    "    time = datetime.datetime.now()\n",
    "    #Get only the current time\n",
    "    #time = (time.strftime(\"%H:%M:%S\"))\n",
    "    #Get the current date and time\n",
    "    time = (time.strftime(\"%Y - %m - %d\\n    %H:%M:%S\"))\n",
    "    txt.set(time)\n",
    "    root.after(100,clock_time)\n",
    "\n",
    "root = Tk()\n",
    "root.attributes(\"-fullscreen\",False)\n",
    "root.configure(background='black')\n",
    "root.bind(\"x\", quit)\n",
    "root.after(100, clock_time)\n",
    "\n",
    "fnt = font.Font(family='Helvetica', size=60, weight='bold')\n",
    "txt = StringVar()\n",
    "lbl = ttk.Label(root, textvariable=txt, font=fnt, foreground=\"white\", background=\"black\")\n",
    "lbl.place(relx=0.5, rely=0.5, anchor=CENTER)\n",
    "\n",
    "root.mainloop()"
   ]
  },
  {
   "cell_type": "code",
   "execution_count": null,
   "metadata": {},
   "outputs": [],
   "source": []
  },
  {
   "cell_type": "code",
   "execution_count": null,
   "metadata": {},
   "outputs": [],
   "source": []
  }
 ],
 "metadata": {
  "kernelspec": {
   "display_name": "Python 3",
   "language": "python",
   "name": "python3"
  },
  "language_info": {
   "codemirror_mode": {
    "name": "ipython",
    "version": 3
   },
   "file_extension": ".py",
   "mimetype": "text/x-python",
   "name": "python",
   "nbconvert_exporter": "python",
   "pygments_lexer": "ipython3",
   "version": "3.8.3"
  }
 },
 "nbformat": 4,
 "nbformat_minor": 4
}
