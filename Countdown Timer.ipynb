{
 "cells": [
  {
   "cell_type": "code",
   "execution_count": 3,
   "metadata": {},
   "outputs": [],
   "source": [
    "from tkinter import *\n",
    "from tkinter import ttk\n",
    "from tkinter import font\n",
    "import time\n",
    "import datetime"
   ]
  },
  {
   "cell_type": "code",
   "execution_count": 10,
   "metadata": {},
   "outputs": [],
   "source": [
    "global endTime\n",
    "\n",
    "def quit(*args):\n",
    "    root.destroy()\n",
    "\n",
    "def cant_wait():\n",
    "    #Get the time remaining ultil the event\n",
    "    timeLeft = endTime - datetime.datetime.now()\n",
    "    #Remove the microseconds\n",
    "    timeLeft = timeLeft - datetime.timedelta(microseconds=timeLeft.microseconds)\n",
    "    #Show the time left\n",
    "    txt.set(timeLeft)\n",
    "    #Trigger the countdown after 100ms\n",
    "    root.after(100,cant_wait)\n",
    "\n",
    "#Use tkinter lib for showing the clock\n",
    "root = Tk()\n",
    "#relates to screen\n",
    "root.attributes(\"-fullscreen\",False)\n",
    "root.configure(background='black')\n",
    "root.bind(\"x\", quit)\n",
    "root.after(100,cant_wait)\n",
    "\n",
    "#Set the end date and time for the countdown\n",
    "endTime = datetime.datetime(2020,12,15)\n",
    "\n",
    "#Configure the style\n",
    "fnt = font.Font(family='Helvetica', size=70, weight='bold')\n",
    "txt = StringVar()\n",
    "lbl = ttk.Label(root, textvariable=txt, font=fnt, foreground=\"white\", background=\"black\")\n",
    "lbl.place(relx=0.5, rely=0.5, anchor=CENTER)\n",
    "\n",
    "root.mainloop()"
   ]
  },
  {
   "cell_type": "code",
   "execution_count": null,
   "metadata": {},
   "outputs": [],
   "source": []
  }
 ],
 "metadata": {
  "kernelspec": {
   "display_name": "Python 3",
   "language": "python",
   "name": "python3"
  },
  "language_info": {
   "codemirror_mode": {
    "name": "ipython",
    "version": 3
   },
   "file_extension": ".py",
   "mimetype": "text/x-python",
   "name": "python",
   "nbconvert_exporter": "python",
   "pygments_lexer": "ipython3",
   "version": "3.8.3"
  }
 },
 "nbformat": 4,
 "nbformat_minor": 4
}
